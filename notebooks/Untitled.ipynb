{
 "cells": [
  {
   "cell_type": "code",
   "execution_count": 31,
   "id": "158510ef",
   "metadata": {},
   "outputs": [],
   "source": [
    "import struct # to unpack the binary file\n",
    "import numpy as np # to store matrix as array\n",
    "import math # for math.sqrt\n",
    "\n",
    "class DCDReader:\n",
    "    \n",
    "    def __init__(self, trajectoryFileName, analysisFrame, sel1, sel2):\n",
    "        self.trajectoryFileName = trajectoryFileName\n",
    "        self.analysisFrame = analysisFrame\n",
    "        self.sel1 = sel1\n",
    "        self.sel2 = sel2\n",
    "        self.file = open(trajectoryFileName, \"rb\")\n",
    "    \n",
    "    def read_DCD_Header(self, file):\n",
    "        struct.unpack('i', file.read(4))\n",
    "        struct.unpack('ssss', file.read(4))\n",
    "        nFrames = struct.unpack('i', file.read(4))[0]\n",
    "        t0 = struct.unpack('i', file.read(4))[0]\n",
    "        dt = struct.unpack('i', file.read(4))[0]\n",
    "\n",
    "        #Dummy variables\n",
    "        for i in range(6):\n",
    "            struct.unpack('i', file.read(4))\n",
    "        struct.unpack('f', file.read(4))\n",
    "        for i in range(10):\n",
    "            struct.unpack('i', file.read(4))\n",
    "        struct.unpack('i', file.read(4))\n",
    "\n",
    "        titleLength = int(struct.unpack('i', file.read(4))[0])\n",
    "        title = struct.unpack(f'{titleLength}s', file.read(titleLength))\n",
    "\n",
    "        #Dummies\n",
    "        struct.unpack('i', file.read(4))\n",
    "        struct.unpack('i', file.read(4))\n",
    "\n",
    "        nAtoms = int(struct.unpack('i', file.read(4))[0])\n",
    "        struct.unpack('i', file.read(4))\n",
    "\n",
    "        return nFrames, nAtoms\n",
    "\n",
    "    def read_DCD_Frame(self, file, frame, nAtoms):\n",
    "        arr = np.zeros((nAtoms, 3))\n",
    "        struct.unpack('i', file.read(4))\n",
    "        struct.unpack('d'*6, file.read(8*6))\n",
    "        struct.unpack('i'*2, file.read(4*2))\n",
    "        for i in range(nAtoms):\n",
    "            arr[i,0]=struct.unpack('f', file.read(4))[0]\n",
    "        struct.unpack('i', file.read(4))\n",
    "        struct.unpack('i', file.read(4))\n",
    "\n",
    "        for i in range(nAtoms):\n",
    "            arr[i,1]=struct.unpack('f', file.read(4))[0]\n",
    "        struct.unpack('i', file.read(4))\n",
    "        struct.unpack('i', file.read(4))\n",
    "\n",
    "        for i in range(nAtoms):\n",
    "            arr[i,2]=struct.unpack('f', file.read(4))[0]\n",
    "\n",
    "        struct.unpack('i', file.read(4))\n",
    "        return arr\n",
    "\n",
    "    def compute_distance(coord1, coord2):\n",
    "        return np.sqrt((coord1[0]-coord2[0])**2 + (coord1[1]-coord2[1])**2 + (coord1[2]-coord2[2])**2)\n",
    "\n",
    "    def compute_inverse_distance(self, coord1, coord2):\n",
    "        tmp = DCDReader.compute_distance(coord1, coord2)\n",
    "        if tmp != 0:\n",
    "            return 1/tmp\n",
    "        else:\n",
    "            return -1\n",
    "        \n",
    "    def output_"
   ]
  },
  {
   "cell_type": "code",
   "execution_count": 83,
   "id": "473f15da",
   "metadata": {},
   "outputs": [
    {
     "name": "stdout",
     "output_type": "stream",
     "text": [
      "Reading trajectory with 3995 frames and 1435 atoms\n",
      "Read in DCD header for trajectory with 3995 frames and 1435 atoms.\n",
      "Compute distance matrix for frame 0\n",
      "Compute distance matrix for frame 100\n",
      "Compute distance matrix for frame 200\n",
      "Compute distance matrix for frame 300\n",
      "Compute distance matrix for frame 400\n",
      "Compute distance matrix for frame 500\n",
      "Compute distance matrix for frame 600\n",
      "Compute distance matrix for frame 700\n",
      "Compute distance matrix for frame 800\n",
      "Compute distance matrix for frame 900\n",
      "Compute distance matrix for frame 1000\n",
      "Compute distance matrix for frame 1100\n",
      "Compute distance matrix for frame 1200\n",
      "Compute distance matrix for frame 1300\n",
      "Compute distance matrix for frame 1400\n",
      "Compute distance matrix for frame 1500\n",
      "Compute distance matrix for frame 1600\n",
      "Compute distance matrix for frame 1700\n",
      "Compute distance matrix for frame 1800\n",
      "Compute distance matrix for frame 1900\n",
      "Compute distance matrix for frame 2000\n",
      "Compute distance matrix for frame 2100\n",
      "Compute distance matrix for frame 2200\n",
      "Compute distance matrix for frame 2300\n",
      "Compute distance matrix for frame 2400\n",
      "Compute distance matrix for frame 2500\n",
      "Compute distance matrix for frame 2600\n",
      "Compute distance matrix for frame 2700\n",
      "Compute distance matrix for frame 2800\n",
      "Compute distance matrix for frame 2900\n",
      "Compute distance matrix for frame 3000\n",
      "Compute distance matrix for frame 3100\n",
      "Compute distance matrix for frame 3200\n",
      "Compute distance matrix for frame 3300\n",
      "Compute distance matrix for frame 3400\n",
      "Compute distance matrix for frame 3500\n",
      "Compute distance matrix for frame 3600\n",
      "Compute distance matrix for frame 3700\n",
      "Compute distance matrix for frame 3800\n",
      "Compute distance matrix for frame 3900\n"
     ]
    }
   ],
   "source": [
    "sel1 = np.arange(0,50,1)\n",
    "sel2 = np.arange(50,150,1)\n",
    "\n",
    "options = {\n",
    "        \"topology\": \"../1YLB_Small_waters.psf\",\n",
    "        \"trajectory\": \"../practice.dcd\",\n",
    "        \"skipFrames\": 100,\n",
    "        \"grp1\": sel1,\n",
    "        \"grp2\": sel2\n",
    "    }\n",
    "\n",
    "main(options[\"topology\"], options[\"trajectory\"], options[\"skipFrames\"], options[\"grp1\"], options[\"grp2\"])"
   ]
  },
  {
   "cell_type": "code",
   "execution_count": 85,
   "id": "10d0d3ee",
   "metadata": {},
   "outputs": [
    {
     "ename": "SyntaxError",
     "evalue": "invalid syntax (665344862.py, line 1)",
     "output_type": "error",
     "traceback": [
      "\u001b[0;36m  File \u001b[0;32m\"/var/folders/p_/mmkyzkc1655_rf8nypyzqx7r0000gn/T/ipykernel_26243/665344862.py\"\u001b[0;36m, line \u001b[0;32m1\u001b[0m\n\u001b[0;31m    import ../contacts\u001b[0m\n\u001b[0m           ^\u001b[0m\n\u001b[0;31mSyntaxError\u001b[0m\u001b[0;31m:\u001b[0m invalid syntax\n"
     ]
    }
   ],
   "source": [
    "import ../contacts"
   ]
  },
  {
   "cell_type": "code",
   "execution_count": 32,
   "id": "96126d18",
   "metadata": {},
   "outputs": [
    {
     "name": "stdout",
     "output_type": "stream",
     "text": [
      "Read in DCD header for trajectory with 3995 frames and 1435 atoms.\n",
      "Compute distance matrix for frame 0\n",
      "Compute distance matrix for frame 1000\n",
      "Compute distance matrix for frame 2000\n",
      "Compute distance matrix for frame 3000\n"
     ]
    }
   ],
   "source": [
    "import struct\n",
    "dcd = DCDReader(\"../data/practice.dcd\", 1000, np.arange(0,50,1), np.arange(50,150,1))\n",
    "\n",
    " # Read in header - record number of frames and number of atoms\n",
    "nFrames, nAtoms = dcd.read_DCD_Header(dcd.file)\n",
    "print(f\"Read in DCD header for trajectory with {nFrames} frames and {nAtoms} atoms.\")\n",
    "# Store coordinates to compute contact distances\n",
    "coords = np.zeros((nAtoms, 3))\n",
    "        \n",
    "# Numpy array to store inverse contact distances\n",
    "distance_matrix = np.zeros((nFrames, len(dcd.sel1), len(dcd.sel2)))\n",
    "        \n",
    "# For each frame\n",
    "for j in range(nFrames):\n",
    "# Read in the coordinates\n",
    "    coords = dcd.read_DCD_Frame(dcd.file, j, nAtoms)\n",
    "        \n",
    "    # For each pair of residues \n",
    "    if(j % dcd.analysisFrame == 0):\n",
    "        print(\"Compute distance matrix for frame %d\" % j)\n",
    "        for s1 in range(len(dcd.sel1)):\n",
    "            for s2 in range(len(dcd.sel2)):\n",
    "                # Compute the inverse contact distance\n",
    "                distance_matrix[j,s1,s2] = dcd.compute_inverse_distance(coords[dcd.sel1[s1]],coords[dcd.sel2[s2]])"
   ]
  },
  {
   "cell_type": "code",
   "execution_count": null,
   "id": "03605ecd",
   "metadata": {},
   "outputs": [],
   "source": []
  }
 ],
 "metadata": {
  "kernelspec": {
   "display_name": "Python 3 (ipykernel)",
   "language": "python",
   "name": "python3"
  },
  "language_info": {
   "codemirror_mode": {
    "name": "ipython",
    "version": 3
   },
   "file_extension": ".py",
   "mimetype": "text/x-python",
   "name": "python",
   "nbconvert_exporter": "python",
   "pygments_lexer": "ipython3",
   "version": "3.9.7"
  }
 },
 "nbformat": 4,
 "nbformat_minor": 5
}
